{
 "cells": [
  {
   "cell_type": "code",
   "execution_count": 1,
   "id": "99637c95",
   "metadata": {
    "execution": {
     "iopub.execute_input": "2023-09-06T16:36:24.144392Z",
     "iopub.status.busy": "2023-09-06T16:36:24.143448Z",
     "iopub.status.idle": "2023-09-06T16:36:24.160428Z",
     "shell.execute_reply": "2023-09-06T16:36:24.159000Z"
    },
    "jupyter": {
     "source_hidden": true
    },
    "papermill": {
     "duration": 0.027881,
     "end_time": "2023-09-06T16:36:24.163834",
     "exception": false,
     "start_time": "2023-09-06T16:36:24.135953",
     "status": "completed"
    },
    "tags": []
   },
   "outputs": [
    {
     "name": "stdout",
     "output_type": "stream",
     "text": [
      "Writing GPT.2neo.py\n"
     ]
    }
   ],
   "source": [
    "%%writefile GPT.2neo.py\n",
    "import os\n",
    "import shutil\n",
    "from flask import Flask, render_template, request, jsonify\n",
    "import gpt_2_simple as gpt2\n",
    "\n",
    "# Set TensorFlow to use GPU if available (improves performance)\n",
    "import tensorflow as tf\n",
    "tf.config.experimental.set_memory_growth(tf.config.list_physical_devices('GPU')[0], True)\n",
    "\n",
    "app = Flask(__name__)\n",
    "\n",
    "# Update model_name to match the model size\n",
    "model_name = \"355M\"\n",
    "\n",
    "# Set the model directory based on your project directory\n",
    "model_directory = os.path.join('/kaggle/input/gpt-project-school', 'models', model_name)\n",
    "\n",
    "# Load the GPT-2 model only once (improves performance)\n",
    "sess = None\n",
    "\n",
    "def load_gpt2_model():\n",
    "    global sess\n",
    "    if sess is None:\n",
    "        sess = gpt2.start_tf_sess()\n",
    "        gpt2.load_gpt2(sess, model_name=model_name, model_dir=model_directory)\n",
    "\n",
    "@app.route('/')\n",
    "def home():\n",
    "    return render_template('index.html')\n",
    "\n",
    "@app.route('/generate', methods=['POST'])\n",
    "def generate():\n",
    "    prompt = request.form['prompt']\n",
    "    min_word_count = int(request.form['min_word_count'])  # Get the minimum word count from the request\n",
    "\n",
    "    # Load the GPT-2 model only once\n",
    "    load_gpt2_model()\n",
    "\n",
    "    # Generate text until it reaches the minimum word count\n",
    "    response = \"\"\n",
    "    while len(response.split()) < min_word_count:\n",
    "        text_chunk = gpt2.generate(sess, model_name=model_name, prefix=prompt, return_as_list=True)[0]\n",
    "        response += text_chunk + \" \"\n",
    "\n",
    "    # Save the generated response to a text file\n",
    "    save_path = '/kaggle/working/generated_response.txt'\n",
    "    with open(save_path, 'w') as file:\n",
    "        file.write(response)\n",
    "\n",
    "    return jsonify(response)\n",
    "\n",
    "if __name__ == '__main__':\n",
    "    app.run()\n"
   ]
  },
  {
   "cell_type": "code",
   "execution_count": null,
   "id": "5fbab87a",
   "metadata": {
    "papermill": {
     "duration": 0.00396,
     "end_time": "2023-09-06T16:36:24.172392",
     "exception": false,
     "start_time": "2023-09-06T16:36:24.168432",
     "status": "completed"
    },
    "tags": []
   },
   "outputs": [],
   "source": []
  },
  {
   "cell_type": "code",
   "execution_count": null,
   "id": "30e5c411",
   "metadata": {
    "papermill": {
     "duration": 0.003816,
     "end_time": "2023-09-06T16:36:24.180307",
     "exception": false,
     "start_time": "2023-09-06T16:36:24.176491",
     "status": "completed"
    },
    "tags": []
   },
   "outputs": [],
   "source": []
  }
 ],
 "kernelspec": {
  "display_name": "Python 3",
  "language": "python",
  "name": "python3"
 },
 "language_info": {
  "codemirror_mode": {
   "name": "ipython",
   "version": 3
  },
  "file_extension": ".py",
  "mimetype": "text/x-python",
  "name": "python",
  "nbconvert_exporter": "python",
  "pygments_lexer": "ipython3",
  "version": "3.6.4"
 },
 "metadata": {
  "kernelspec": {
   "display_name": "Python 3",
   "language": "python",
   "name": "python3"
  },
  "language_info": {
   "codemirror_mode": {
    "name": "ipython",
    "version": 3
   },
   "file_extension": ".py",
   "mimetype": "text/x-python",
   "name": "python",
   "nbconvert_exporter": "python",
   "pygments_lexer": "ipython3",
   "version": "3.10.12"
  },
  "papermill": {
   "default_parameters": {},
   "duration": 4.767308,
   "end_time": "2023-09-06T16:36:24.709639",
   "environment_variables": {},
   "exception": null,
   "input_path": "__notebook__.ipynb",
   "output_path": "__notebook__.ipynb",
   "parameters": {},
   "start_time": "2023-09-06T16:36:19.942331",
   "version": "2.4.0"
  }
 },
 "nbformat": 4,
 "nbformat_minor": 5
}
