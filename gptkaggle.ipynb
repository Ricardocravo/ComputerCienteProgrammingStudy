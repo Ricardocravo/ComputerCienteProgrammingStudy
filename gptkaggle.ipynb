{
 "cells": [
  {
   "cell_type": "raw",
   "id": "63f9ef3d",
   "metadata": {
    "_cell_guid": "2521a0fa-ba5b-47a1-ae8d-ac44b1598bcb",
    "_uuid": "9da59f71-542b-4e65-9f4c-cfb76bdc4b3e",
    "papermill": {
     "duration": 0.004825,
     "end_time": "2023-09-06T14:37:21.285330",
     "exception": false,
     "start_time": "2023-09-06T14:37:21.280505",
     "status": "completed"
    },
    "tags": []
   },
   "source": []
  }
 ],
 "kernelspec": {
  "display_name": "Python 3",
  "language": "python",
  "name": "python3"
 },
 "language_info": {
  "codemirror_mode": {
   "name": "ipython",
   "version": 3
  },
  "file_extension": ".py",
  "mimetype": "text/x-python",
  "name": "python",
  "nbconvert_exporter": "python",
  "pygments_lexer": "ipython3",
  "version": "3.6.4"
 },
 "metadata": {
  "kernelspec": {
   "display_name": "Python 3",
   "language": "python",
   "name": "python3"
  },
  "language_info": {
   "codemirror_mode": {
    "name": "ipython",
    "version": 3
   },
   "file_extension": ".py",
   "mimetype": "text/x-python",
   "name": "python",
   "nbconvert_exporter": "python",
   "pygments_lexer": "ipython3",
   "version": "3.10.12"
  },
  "papermill": {
   "default_parameters": {},
   "duration": 4.379,
   "end_time": "2023-09-06T14:37:21.812932",
   "environment_variables": {},
   "exception": null,
   "input_path": "__notebook__.ipynb",
   "output_path": "__notebook__.ipynb",
   "parameters": {},
   "start_time": "2023-09-06T14:37:17.433932",
   "version": "2.4.0"
  }
 },
 "nbformat": 4,
 "nbformat_minor": 5
}
