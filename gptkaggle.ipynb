{
 "cells": [
  {
   "cell_type": "code",
   "execution_count": null,
   "id": "7d08dd0d",
   "metadata": {
    "execution": {
     "iopub.execute_input": "2023-09-06T15:19:51.834383Z",
     "iopub.status.busy": "2023-09-06T15:19:51.833453Z",
     "iopub.status.idle": "2023-09-06T15:19:51.886876Z",
     "shell.execute_reply": "2023-09-06T15:19:51.885258Z",
     "shell.execute_reply.started": "2023-09-06T15:19:51.834332Z"
    },
    "papermill": {
     "duration": 0.003555,
     "end_time": "2023-09-06T15:21:56.538253",
     "exception": false,
     "start_time": "2023-09-06T15:21:56.534698",
     "status": "completed"
    },
    "tags": []
   },
   "outputs": [],
   "source": []
  }
 ],
 "kernelspec": {
  "display_name": "Python 3",
  "language": "python",
  "name": "python3"
 },
 "language_info": {
  "codemirror_mode": {
   "name": "ipython",
   "version": 3
  },
  "file_extension": ".py",
  "mimetype": "text/x-python",
  "name": "python",
  "nbconvert_exporter": "python",
  "pygments_lexer": "ipython3",
  "version": "3.6.4"
 },
 "metadata": {
  "kernelspec": {
   "display_name": "Python 3",
   "language": "python",
   "name": "python3"
  },
  "language_info": {
   "codemirror_mode": {
    "name": "ipython",
    "version": 3
   },
   "file_extension": ".py",
   "mimetype": "text/x-python",
   "name": "python",
   "nbconvert_exporter": "python",
   "pygments_lexer": "ipython3",
   "version": "3.10.12"
  },
  "papermill": {
   "default_parameters": {},
   "duration": 4.542372,
   "end_time": "2023-09-06T15:21:56.861659",
   "environment_variables": {},
   "exception": null,
   "input_path": "__notebook__.ipynb",
   "output_path": "__notebook__.ipynb",
   "parameters": {},
   "start_time": "2023-09-06T15:21:52.319287",
   "version": "2.4.0"
  }
 },
 "nbformat": 4,
 "nbformat_minor": 5
}
